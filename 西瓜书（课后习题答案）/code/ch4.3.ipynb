{
 "cells": [
  {
   "cell_type": "code",
   "execution_count": 2,
   "metadata": {
    "collapsed": true
   },
   "outputs": [],
   "source": [
    "import pandas as pd\n",
    "data_file_encode = \"gb18030\"  # the watermelon_3.csv is file codec type\n",
    "with open(\"../data/watermelon_3.csv\", mode = 'r', encoding = data_file_encode) as data_file:\n",
    "    df = pd.read_csv(data_file)"
   ]
  },
  {
   "cell_type": "code",
   "execution_count": 3,
   "metadata": {},
   "outputs": [
    {
     "name": "stdout",
     "output_type": "stream",
     "text": [
      "<class 'pandas.core.frame.DataFrame'>\n"
     ]
    }
   ],
   "source": [
    "print (type(df))"
   ]
  },
  {
   "cell_type": "code",
   "execution_count": 4,
   "metadata": {
    "collapsed": true
   },
   "outputs": [],
   "source": [
    "\n",
    "import ID3_DT\n",
    "root = ID3_DT.TreeGenerate(df)"
   ]
  },
  {
   "cell_type": "code",
   "execution_count": 5,
   "metadata": {},
   "outputs": [
    {
     "name": "stdout",
     "output_type": "stream",
     "text": [
      "accuracy: 0.000  0.000  0.667  1.000  0.000  \n",
      "average accuracy: 0.333\n"
     ]
    }
   ],
   "source": [
    "accuracy_scores = []\n",
    "n = len(df.index)\n",
    "k = 5\n",
    "for i in range(k):\n",
    "    m = int(n/k)\n",
    "    test = []\n",
    "    for j in range(i*m, i*m+m):\n",
    "        test.append(j)\n",
    "        \n",
    "    df_train = df.drop(test)\n",
    "    df_test = df.iloc[test]\n",
    "    root = ID3_DT.TreeGenerate(df_train)  # generate the tree\n",
    "    \n",
    "    # test the accuracy\n",
    "    pred_true = 0\n",
    "    for i in df_test.index:\n",
    "        label = ID3_DT.Predict(root, df[df.index == i])\n",
    "        if label == df_test[df_test.columns[-1]][i]:\n",
    "            pred_true += 1\n",
    "            \n",
    "    accuracy = pred_true / len(df_test.index)\n",
    "    accuracy_scores.append(accuracy) \n",
    " \n",
    " \n",
    "# print the prediction accuracy result\n",
    "accuracy_sum = 0\n",
    "print(\"accuracy: \", end = \"\")\n",
    "for i in range(k):\n",
    "    print(\"%.3f  \" % accuracy_scores[i], end = \"\")\n",
    "    accuracy_sum += accuracy_scores[i]\n",
    "print(\"\\naverage accuracy: %.3f\" % (accuracy_sum/k))\n",
    "\n",
    "# dicision tree visualization using pydotplus.graphviz\n",
    "root = ID3_DT.TreeGenerate(df)"
   ]
  },
  {
   "cell_type": "code",
   "execution_count": null,
   "metadata": {
    "collapsed": true
   },
   "outputs": [],
   "source": [
    "ID3_DT.DrawPNG(root, \"decision_tree_ID3.png\")"
   ]
  }
 ],
 "metadata": {
  "kernelspec": {
   "display_name": "Python 3",
   "language": "python",
   "name": "python3"
  },
  "language_info": {
   "codemirror_mode": {
    "name": "ipython",
    "version": 3
   },
   "file_extension": ".py",
   "mimetype": "text/x-python",
   "name": "python",
   "nbconvert_exporter": "python",
   "pygments_lexer": "ipython3",
   "version": "3.6.3"
  }
 },
 "nbformat": 4,
 "nbformat_minor": 2
}
