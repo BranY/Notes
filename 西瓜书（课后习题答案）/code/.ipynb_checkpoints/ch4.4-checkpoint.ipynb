{
 "cells": [
  {
   "cell_type": "code",
   "execution_count": 1,
   "metadata": {
    "collapsed": true
   },
   "outputs": [],
   "source": [
    "import pandas as pd\n",
    "data_file_encode = \"gb18030\"\n",
    "with open(\"../data/watermelon_2.csv\", mode = 'r', encoding = data_file_encode) as data_file:\n",
    "    df = pd.read_csv(data_file)\n",
    "\n",
    "'''\n",
    "implementation of CART rely on CART_DT.py\n",
    "'''\n",
    "import CART_DT"
   ]
  },
  {
   "cell_type": "code",
   "execution_count": 2,
   "metadata": {},
   "outputs": [
    {
     "name": "stdout",
     "output_type": "stream",
     "text": [
      "accuracy of full tree: 0.286\n",
      "accuracy of pre-purning tree: 0.429\n",
      "accuracy of post-purning tree: 0.429\n"
     ]
    }
   ],
   "source": [
    "# dicision tree visualization using pydotplus.graphviz\n",
    "index_train = [0,1,2,5,6,9,13,14,15,16]\n",
    "\n",
    "df_train = df.iloc[index_train]\n",
    "df_test  = df.drop(index_train)\n",
    "\n",
    "# generate a full tree\n",
    "root = CART_DT.TreeGenerate(df_train)\n",
    "CART_DT.DrawPNG(root, \"decision_tree_full.png\")\n",
    "print(\"accuracy of full tree: %.3f\" % CART_DT.PredictAccuracy(root, df_test))\n",
    "\n",
    "# pre-purning\n",
    "root = CART_DT.PrePurn(df_train, df_test)\n",
    "CART_DT.DrawPNG(root, \"decision_tree_pre.png\")\n",
    "print(\"accuracy of pre-purning tree: %.3f\" % CART_DT.PredictAccuracy(root, df_test))\n",
    "\n",
    "# # post-puring\n",
    "root = CART_DT.TreeGenerate(df_train)\n",
    "CART_DT.PostPurn(root, df_test)\n",
    "CART_DT.DrawPNG(root, \"decision_tree_post.png\")\n",
    "print(\"accuracy of post-purning tree: %.3f\" % CART_DT.PredictAccuracy(root, df_test))"
   ]
  },
  {
   "cell_type": "code",
   "execution_count": 3,
   "metadata": {},
   "outputs": [
    {
     "name": "stdout",
     "output_type": "stream",
     "text": [
      "accuracy: 1.000  0.667  1.000  0.000  0.333  \n",
      "average accuracy: 0.600\n"
     ]
    }
   ],
   "source": [
    "# print the accuracy\n",
    "# k-folds cross prediction\n",
    "accuracy_scores = []\n",
    "n = len(df.index)\n",
    "k = 5\n",
    "for i in range(k):\n",
    "    m = int(n/k)\n",
    "    test = []\n",
    "    for j in range(i*m, i*m+m):\n",
    "        test.append(j)\n",
    "        \n",
    "    df_train = df.drop(test)\n",
    "    df_test = df.iloc[test]\n",
    "    root = CART_DT.TreeGenerate(df_train)  # generate the tree\n",
    "    CART_DT.PostPurn(root, df_test)  # post-purning\n",
    "    \n",
    "    # test the accuracy\n",
    "    pred_true = 0\n",
    "    for i in df_test.index:\n",
    "        label = CART_DT.Predict(root, df[df.index == i])\n",
    "        if label == df_test[df_test.columns[-1]][i]:\n",
    "            pred_true += 1\n",
    "            \n",
    "    accuracy = pred_true / len(df_test.index)\n",
    "    accuracy_scores.append(accuracy) \n",
    "\n",
    "# print the prediction accuracy result\n",
    "accuracy_sum = 0\n",
    "print(\"accuracy: \", end = \"\")\n",
    "for i in range(k):\n",
    "    print(\"%.3f  \" % accuracy_scores[i], end = \"\")\n",
    "    accuracy_sum += accuracy_scores[i]\n",
    "print(\"\\naverage accuracy: %.3f\" % (accuracy_sum/k))\n"
   ]
  },
  {
   "cell_type": "code",
   "execution_count": null,
   "metadata": {
    "collapsed": true
   },
   "outputs": [],
   "source": []
  }
 ],
 "metadata": {
  "kernelspec": {
   "display_name": "Python 3",
   "language": "python",
   "name": "python3"
  },
  "language_info": {
   "codemirror_mode": {
    "name": "ipython",
    "version": 3
   },
   "file_extension": ".py",
   "mimetype": "text/x-python",
   "name": "python",
   "nbconvert_exporter": "python",
   "pygments_lexer": "ipython3",
   "version": "3.6.3"
  }
 },
 "nbformat": 4,
 "nbformat_minor": 2
}
