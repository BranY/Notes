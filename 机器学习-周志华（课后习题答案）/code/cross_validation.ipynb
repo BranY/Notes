{
 "cells": [
  {
   "cell_type": "code",
   "execution_count": 6,
   "metadata": {},
   "outputs": [],
   "source": [
    "'''\n",
    "1-st. iris data set importing and visualization using seaborn\n",
    "'''\n",
    "import numpy as np\n",
    "import seaborn as sns\n",
    "\n",
    "sns.set(style=\"white\", color_codes=True)\n",
    "iris = sns.load_dataset(\"iris\")\n",
    "X = iris.values[50:150,0:4]\n",
    "y = iris.values[50:150,4]\n",
    "\n",
    "# print ('iris:\\n%s\\n, X:\\n%s\\n, y:\\n%s\\n' % (iris, X, y))\n",
    "# iris.plot(kind=\"scatter\", x=\"sepal_length\", y=\"sepal_width\")\n",
    "# sns.pairplot(iris,hue='species') \n",
    "# sns.plt.show()"
   ]
  },
  {
   "cell_type": "code",
   "execution_count": null,
   "metadata": {
    "collapsed": true
   },
   "outputs": [],
   "source": [
    "第一步：导入数据"
   ]
  },
  {
   "cell_type": "code",
   "execution_count": 13,
   "metadata": {},
   "outputs": [
    {
     "name": "stdout",
     "output_type": "stream",
     "text": [
      "0.97\n"
     ]
    }
   ],
   "source": [
    "'''\n",
    "2-nd logistic regression using sklearn\n",
    "'''\n",
    "from sklearn.linear_model import LogisticRegression\n",
    "from sklearn import metrics\n",
    "from sklearn.model_selection import cross_val_predict\n",
    "\n",
    "# log-regression lib model\n",
    "log_model = LogisticRegression()\n",
    "m = np.shape(X)[0]\n",
    "\n",
    "# 10-folds CV\n",
    "y_pred = cross_val_predict(log_model, X, y, cv=10)\n",
    "print(metrics.accuracy_score(y, y_pred))\n",
    "    "
   ]
  },
  {
   "cell_type": "code",
   "execution_count": 10,
   "metadata": {},
   "outputs": [
    {
     "name": "stdout",
     "output_type": "stream",
     "text": [
      "0.96\n"
     ]
    }
   ],
   "source": [
    "# LOOCV\n",
    "from sklearn.model_selection import LeaveOneOut\n",
    "loo = LeaveOneOut()\n",
    "accuracy = 0;\n",
    "for train, test in loo.split(X):\n",
    "    log_model.fit(X[train], y[train])  # fitting\n",
    "    y_p = log_model.predict(X[test])\n",
    "    if y_p == y[test] : accuracy += 1  \n",
    "print(accuracy / np.shape(X)[0])\n",
    "\n",
    "# m = np.shape(X)[0]\n",
    "# scores_loo = cross_val_score(log_model, X, y, cv=m)\n",
    "# print(scores_loo)\n",
    "# # prediction using 10-folds\n",
    "# y_pred_loo = cross_val_predict(log_model, X, y, cv=m)\n",
    "# print(metrics.accuracy_score(y, y_pred_loo))"
   ]
  },
  {
   "cell_type": "code",
   "execution_count": 11,
   "metadata": {},
   "outputs": [
    {
     "name": "stdout",
     "output_type": "stream",
     "text": [
      "0.764705882353\n",
      "0.7700534759358288\n"
     ]
    }
   ],
   "source": [
    "'''\n",
    "transfusion-blood dats set analysis\n",
    "'''\n",
    "# import numpy as np  # for matrix calculation\n",
    "dataset_transfusion = np.loadtxt('../data/transfusion.data', delimiter=\",\", skiprows=1)\n",
    "X2 = dataset_transfusion[:,0:4]\n",
    "y2 = dataset_transfusion[:,4]\n",
    "\n",
    "# from sklearn.linear_model import LogisticRegression\n",
    "# from sklearn import metrics\n",
    "# from sklearn.model_selection import cross_val_predict\n",
    "\n",
    "# log-regression lib model\n",
    "log_model = LogisticRegression()\n",
    "m = np.shape(X2)[0]\n",
    "\n",
    "# 10-folds CV\n",
    "y2_pred = cross_val_predict(log_model, X2, y2, cv=10)\n",
    "print(metrics.accuracy_score(y2, y2_pred))\n",
    "    \n",
    "# LOOCV\n",
    "# from sklearn.model_selection import LeaveOneOut\n",
    "loo = LeaveOneOut()\n",
    "accuracy = 0;\n",
    "for train, test in loo.split(X2):\n",
    "    log_model.fit(X2[train], y2[train])  # fitting\n",
    "    y2_p = log_model.predict(X2[test])\n",
    "    if y2_p == y2[test] : accuracy += 1  \n",
    "print(accuracy / np.shape(X2)[0])"
   ]
  },
  {
   "cell_type": "code",
   "execution_count": null,
   "metadata": {
    "collapsed": true
   },
   "outputs": [],
   "source": []
  }
 ],
 "metadata": {
  "kernelspec": {
   "display_name": "Python 3",
   "language": "python",
   "name": "python3"
  },
  "language_info": {
   "codemirror_mode": {
    "name": "ipython",
    "version": 3
   },
   "file_extension": ".py",
   "mimetype": "text/x-python",
   "name": "python",
   "nbconvert_exporter": "python",
   "pygments_lexer": "ipython3",
   "version": "3.6.3"
  }
 },
 "nbformat": 4,
 "nbformat_minor": 2
}
